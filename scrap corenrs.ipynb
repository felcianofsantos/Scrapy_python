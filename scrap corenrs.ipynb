{
 "cells": [
  {
   "cell_type": "code",
   "execution_count": 2,
   "metadata": {},
   "outputs": [],
   "source": [
    "import requests\n",
    "from bs4 import BeautifulSoup\n",
    "from requests import get\n",
    "import pandas as pd"
   ]
  },
  {
   "cell_type": "code",
   "execution_count": 3,
   "metadata": {},
   "outputs": [
    {
     "name": "stdout",
     "output_type": "stream",
     "text": [
      "<class 'bs4.BeautifulSoup'>\n",
      "102\n",
      "11\n"
     ]
    }
   ],
   "source": [
    "## scrapy do site do coren rs\n",
    "url = 'https://www.portalcoren-rs.gov.br/index.php?categoria=servicos&pagina=oportunidades'\n",
    "response = requests.get(url)\n",
    "soup = BeautifulSoup(response.text, 'html.parser')\n",
    "tabela=soup.find_all('a')\n",
    "tabela2=soup.find_all('span', class_ = 'subtitulo-conteudo')\n",
    "print(type(soup))\n",
    "print(len(tabela))\n",
    "print(len(tabela2))\n",
    "\n",
    "    "
   ]
  },
  {
   "cell_type": "code",
   "execution_count": 4,
   "metadata": {},
   "outputs": [
    {
     "name": "stdout",
     "output_type": "stream",
     "text": [
      "['', 'LiveZilla Live Help', '\\n\\n\\n', 'CADASTRE-SE', 'LEMBRAR SENHA', '\\n\\n\\r\\n    Acesso à Informação\\r\\n', 'Página Inicial', 'Institucional', 'Coren-RS', 'História', 'Plenária e Diretoria', 'Sede/Subseções', 'Departamentos/Assessorias', 'Símbolos da Enfermagem', 'Juramento e Hino', 'Acesso à Informação', 'Fiscalização', 'Sobre a fiscalização', 'Registro de Empresa', 'Responsável Técnico', 'Regimentos', 'Inscrição e Cadastro', 'Sobre a Inscrição e Cadastro', 'Concursos', 'Assessorias de Comunicação e Eventos', 'Licitações', 'Coren-RS na Mídia', 'Vídeos', 'Galeria de Fotos', 'Coren-RS na Área', 'Rádio Coren-RS', 'Informativo Coren-RS', 'Livro Caminhos do Cotidiano da Enfermagem', 'Profissional', 'Legislação', 'Leis', 'Decretos', 'Decisões', 'Resoluções', 'Código de Ética', 'Pareceres', 'Projetos', 'Câmaras Técnicas', 'Comissão de Ética', 'Dimensionamento', 'Editais de Citação / Intimação', 'Edital de Notificação de Inscrição em Dívida Ativa', 'Eleições', 'Pedido de Revisão de Débitos', 'Serviços', 'Inscrições e Cadastro', 'Alteração Cadastral\\xa0', 'Certidões\\xa0', 'Cobrança', 'Parcelamento de débitos\\xa0', '2ª via de Boleto\\xa0', 'Anuidade 2018', 'Dúvidas frequentes', 'Fiscalização', 'Formulário de Responsabilidade Técnica\\xa0', 'Formulário de Registro de Empresa\\xa0', 'Consultas', 'Estatísticas', 'Autenticidade de Certidões', 'Justificativa de Ausência Eleitoral', 'Profissionais', 'Bolsa de Oportunidades', 'Profissionais', 'Notícias', 'Últimas Notícias', 'RSS de notícias', 'Alteração de Senha\\xa0', 'Alteração de Email/Celular\\xa0', 'Ouvidoria', 'Nova manifestação', 'Consulta andamento', 'Contato', 'Acesso Rápido', 'Oportunidades', 'Símbolos da Enfermagem', 'Resoluções', 'Dúvidas Frequentes', 'Sobre Inscrição e Cadastro', 'Responsável Técnico', 'Código de Ética', 'Dados Cadastrais\\xa0', 'Links Úteis', 'Como Chegar', 'Portal de Eventos', 'Página inicial', 'SERVIÇOS', 'Técnico de Enfermagem - Centro Obstétrico | Hospital Divina Providência | Porto Alegre', 'Técnico de Enfermagem | Centro Obstétrico | Hospital Divina Providência | Porto Alegre', 'Técnico de Enfermagem | Bloco Cirúrgico | Hospital Divina Providência', 'Técnica(o) de Enfermagem e Enfermeira(o) | Hospital Divina Providência', 'Técnico de Enfermagem - Lar Alice Kinsolving - Viamão', 'Enfermeira(o) - Centro Cirúrgico | Hospital Divina Providência | Porto Alegre', 'Técnico de Enfermagem - Centro Obstétrico | Hospital Divina Providência | Porto Alegre', 'Técnicos de Enfermagem e enfermeira(o) I Hospital Divina Providência I Porto Alegre', 'Técnico de Enfermagem | Santé - Recursos Humanos em Saúde | Porto Alegre', 'Enfermeira I Clínica Pinel I Porto Alegre', 'Técnico de Enfermagem I Clínica Pinel I Porto Alegre']\n"
     ]
    }
   ],
   "source": [
    "vagas=[]\n",
    "for tabela in tabela:\n",
    "    vagas.append(tabela.get_text()) \n",
    "print(vagas)    \n"
   ]
  },
  {
   "cell_type": "code",
   "execution_count": 5,
   "metadata": {},
   "outputs": [
    {
     "name": "stdout",
     "output_type": "stream",
     "text": [
      "['11/12/2018', '10/12/2018', '10/12/2018', '27/11/2018', '14/11/2018', '09/11/2018', '09/11/2018', '29/10/2018', '26/10/2018', '18/10/2018', '18/10/2018']\n"
     ]
    }
   ],
   "source": [
    "data=[]\n",
    "for tabela2 in tabela2:\n",
    "    data.append(tabela2.text)\n",
    "print(data) "
   ]
  },
  {
   "cell_type": "code",
   "execution_count": 6,
   "metadata": {},
   "outputs": [],
   "source": [
    "\n",
    "vagas=vagas[91:]\n"
   ]
  },
  {
   "cell_type": "code",
   "execution_count": 9,
   "metadata": {},
   "outputs": [
    {
     "name": "stdout",
     "output_type": "stream",
     "text": [
      "<class 'pandas.core.frame.DataFrame'>\n",
      "RangeIndex: 11 entries, 0 to 10\n",
      "Data columns (total 2 columns):\n",
      "data     11 non-null object\n",
      "vagas    11 non-null object\n",
      "dtypes: object(2)\n",
      "memory usage: 256.0+ bytes\n",
      "None\n"
     ]
    },
    {
     "data": {
      "text/html": [
       "<div>\n",
       "<style scoped>\n",
       "    .dataframe tbody tr th:only-of-type {\n",
       "        vertical-align: middle;\n",
       "    }\n",
       "\n",
       "    .dataframe tbody tr th {\n",
       "        vertical-align: top;\n",
       "    }\n",
       "\n",
       "    .dataframe thead th {\n",
       "        text-align: right;\n",
       "    }\n",
       "</style>\n",
       "<table border=\"1\" class=\"dataframe\">\n",
       "  <thead>\n",
       "    <tr style=\"text-align: right;\">\n",
       "      <th></th>\n",
       "      <th>data</th>\n",
       "      <th>vagas</th>\n",
       "    </tr>\n",
       "  </thead>\n",
       "  <tbody>\n",
       "    <tr>\n",
       "      <th>0</th>\n",
       "      <td>11/12/2018</td>\n",
       "      <td>Técnico de Enfermagem - Centro Obstétrico | Ho...</td>\n",
       "    </tr>\n",
       "    <tr>\n",
       "      <th>1</th>\n",
       "      <td>10/12/2018</td>\n",
       "      <td>Técnico de Enfermagem | Centro Obstétrico | Ho...</td>\n",
       "    </tr>\n",
       "    <tr>\n",
       "      <th>2</th>\n",
       "      <td>10/12/2018</td>\n",
       "      <td>Técnico de Enfermagem | Bloco Cirúrgico | Hosp...</td>\n",
       "    </tr>\n",
       "    <tr>\n",
       "      <th>3</th>\n",
       "      <td>27/11/2018</td>\n",
       "      <td>Técnica(o) de Enfermagem e Enfermeira(o) | Hos...</td>\n",
       "    </tr>\n",
       "    <tr>\n",
       "      <th>4</th>\n",
       "      <td>14/11/2018</td>\n",
       "      <td>Técnico de Enfermagem - Lar Alice Kinsolving -...</td>\n",
       "    </tr>\n",
       "    <tr>\n",
       "      <th>5</th>\n",
       "      <td>09/11/2018</td>\n",
       "      <td>Enfermeira(o) - Centro Cirúrgico | Hospital Di...</td>\n",
       "    </tr>\n",
       "    <tr>\n",
       "      <th>6</th>\n",
       "      <td>09/11/2018</td>\n",
       "      <td>Técnico de Enfermagem - Centro Obstétrico | Ho...</td>\n",
       "    </tr>\n",
       "    <tr>\n",
       "      <th>7</th>\n",
       "      <td>29/10/2018</td>\n",
       "      <td>Técnicos de Enfermagem e enfermeira(o) I Hospi...</td>\n",
       "    </tr>\n",
       "    <tr>\n",
       "      <th>8</th>\n",
       "      <td>26/10/2018</td>\n",
       "      <td>Técnico de Enfermagem | Santé - Recursos Human...</td>\n",
       "    </tr>\n",
       "    <tr>\n",
       "      <th>9</th>\n",
       "      <td>18/10/2018</td>\n",
       "      <td>Enfermeira I Clínica Pinel I Porto Alegre</td>\n",
       "    </tr>\n",
       "    <tr>\n",
       "      <th>10</th>\n",
       "      <td>18/10/2018</td>\n",
       "      <td>Técnico de Enfermagem I Clínica Pinel I Porto ...</td>\n",
       "    </tr>\n",
       "  </tbody>\n",
       "</table>\n",
       "</div>"
      ],
      "text/plain": [
       "          data                                              vagas\n",
       "0   11/12/2018  Técnico de Enfermagem - Centro Obstétrico | Ho...\n",
       "1   10/12/2018  Técnico de Enfermagem | Centro Obstétrico | Ho...\n",
       "2   10/12/2018  Técnico de Enfermagem | Bloco Cirúrgico | Hosp...\n",
       "3   27/11/2018  Técnica(o) de Enfermagem e Enfermeira(o) | Hos...\n",
       "4   14/11/2018  Técnico de Enfermagem - Lar Alice Kinsolving -...\n",
       "5   09/11/2018  Enfermeira(o) - Centro Cirúrgico | Hospital Di...\n",
       "6   09/11/2018  Técnico de Enfermagem - Centro Obstétrico | Ho...\n",
       "7   29/10/2018  Técnicos de Enfermagem e enfermeira(o) I Hospi...\n",
       "8   26/10/2018  Técnico de Enfermagem | Santé - Recursos Human...\n",
       "9   18/10/2018          Enfermeira I Clínica Pinel I Porto Alegre\n",
       "10  18/10/2018  Técnico de Enfermagem I Clínica Pinel I Porto ..."
      ]
     },
     "execution_count": 9,
     "metadata": {},
     "output_type": "execute_result"
    }
   ],
   "source": [
    "\n",
    "\n",
    "test_df = pd.DataFrame({'data': data,\n",
    "                       'vagas': vagas})\n",
    "print(test_df.info())\n",
    "test_df"
   ]
  },
  {
   "cell_type": "code",
   "execution_count": 10,
   "metadata": {},
   "outputs": [],
   "source": [
    "test_df.to_csv('scrapy.csv')"
   ]
  },
  {
   "cell_type": "code",
   "execution_count": null,
   "metadata": {},
   "outputs": [],
   "source": []
  }
 ],
 "metadata": {
  "kernelspec": {
   "display_name": "Python 3",
   "language": "python",
   "name": "python3"
  },
  "language_info": {
   "codemirror_mode": {
    "name": "ipython",
    "version": 3
   },
   "file_extension": ".py",
   "mimetype": "text/x-python",
   "name": "python",
   "nbconvert_exporter": "python",
   "pygments_lexer": "ipython3",
   "version": "3.6.4"
  }
 },
 "nbformat": 4,
 "nbformat_minor": 2
}
